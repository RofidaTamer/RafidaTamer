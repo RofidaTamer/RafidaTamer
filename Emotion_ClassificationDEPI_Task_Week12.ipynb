{
  "nbformat": 4,
  "nbformat_minor": 0,
  "metadata": {
    "colab": {
      "provenance": [],
      "mount_file_id": "1-Red8f68tzHc0t3mDZ-OdMSRxV0-crTM",
      "authorship_tag": "ABX9TyNxEChSuwvvBQ/rGxOR2HQo",
      "include_colab_link": true
    },
    "kernelspec": {
      "name": "python3",
      "display_name": "Python 3"
    },
    "language_info": {
      "name": "python"
    }
  },
  "cells": [
    {
      "cell_type": "markdown",
      "metadata": {
        "id": "view-in-github",
        "colab_type": "text"
      },
      "source": [
        "<a href=\"https://colab.research.google.com/github/RofidaTamer/RafidaTamer/blob/main/Emotion_ClassificationDEPI_Task_Week12.ipynb\" target=\"_parent\"><img src=\"https://colab.research.google.com/assets/colab-badge.svg\" alt=\"Open In Colab\"/></a>"
      ]
    },
    {
      "cell_type": "markdown",
      "source": [
        "# **Name : Rofida tamer abdelmoneam esmail**"
      ],
      "metadata": {
        "id": "3byvIU3dZboi"
      }
    },
    {
      "cell_type": "markdown",
      "source": [
        "# **Import necessary libraries**"
      ],
      "metadata": {
        "id": "wcoKi9oIX_BH"
      }
    },
    {
      "cell_type": "code",
      "execution_count": 16,
      "metadata": {
        "id": "nSePa8flwXbf"
      },
      "outputs": [],
      "source": [
        "\n",
        "import pandas as pd\n",
        "import numpy as np\n",
        "import re\n",
        "import nltk\n",
        "from nltk.corpus import stopwords\n",
        "from sklearn.model_selection import train_test_split, GridSearchCV\n",
        "from sklearn.feature_extraction.text import TfidfVectorizer\n",
        "from sklearn.linear_model import LogisticRegression\n",
        "from sklearn.metrics import classification_report, confusion_matrix, accuracy_score\n",
        "import tensorflow as tf\n",
        "from tensorflow.keras.models import Sequential\n",
        "from tensorflow.keras.layers import Dense, LSTM, Embedding, SpatialDropout1D\n",
        "from tensorflow.keras.preprocessing.text import Tokenizer\n",
        "from tensorflow.keras.preprocessing.sequence import pad_sequences"
      ]
    },
    {
      "cell_type": "markdown",
      "source": [
        "# **Upload The Data**"
      ],
      "metadata": {
        "id": "eWcFyDDIYE0G"
      }
    },
    {
      "cell_type": "code",
      "source": [
        "df = pd.read_csv('/text.csv')"
      ],
      "metadata": {
        "id": "-sVaHQYWw7m1"
      },
      "execution_count": 17,
      "outputs": []
    },
    {
      "cell_type": "markdown",
      "source": [
        "# **Preprocessing**"
      ],
      "metadata": {
        "id": "rtQ5pMUsYLkf"
      }
    },
    {
      "cell_type": "code",
      "source": [
        "# Preprocessing the text data\n",
        "nltk.download('stopwords')\n",
        "STOPWORDS = set(stopwords.words('english'))"
      ],
      "metadata": {
        "colab": {
          "base_uri": "https://localhost:8080/"
        },
        "id": "t-QyZwVcyGjx",
        "outputId": "f0f042d7-80e2-44a6-ddc8-bcb25c719dc3"
      },
      "execution_count": 18,
      "outputs": [
        {
          "output_type": "stream",
          "name": "stderr",
          "text": [
            "[nltk_data] Downloading package stopwords to /root/nltk_data...\n",
            "[nltk_data]   Package stopwords is already up-to-date!\n"
          ]
        }
      ]
    },
    {
      "cell_type": "markdown",
      "source": [
        "# **clean text**"
      ],
      "metadata": {
        "id": "atexWw-8YPQH"
      }
    },
    {
      "cell_type": "code",
      "source": [
        "def clean_text(text):\n",
        "    # Remove special characters, links, and unnecessary whitespace\n",
        "    text = re.sub(r\"http\\S+\", \"\", text)\n",
        "    text = re.sub(r\"[^a-zA-Z]\", \" \", text)\n",
        "    text = text.lower()\n",
        "    text = text.split()\n",
        "    text = [word for word in text if word not in STOPWORDS]\n",
        "    return \" \".join(text)"
      ],
      "metadata": {
        "id": "YV8MfzsGyGmZ"
      },
      "execution_count": 19,
      "outputs": []
    },
    {
      "cell_type": "code",
      "source": [
        "# Apply the cleaning function to the text data\n",
        "df['cleaned_text'] = df['text'].apply(clean_text)"
      ],
      "metadata": {
        "id": "mDCD7cBLyGpF"
      },
      "execution_count": 20,
      "outputs": []
    },
    {
      "cell_type": "code",
      "source": [
        "def clean_text(text):\n",
        "    # Remove special characters, links, and unnecessary whitespace\n",
        "    text = re.sub(r\"http\\S+\", \"\", text)\n",
        "    text = re.sub(r\"[^a-zA-Z]\", \" \", text)\n",
        "    text = text.lower()\n",
        "    text = text.split()\n",
        "    text = [word for word in text if word not in STOPWORDS]\n",
        "    return \" \".join(text)\n",
        "\n",
        "# Apply the cleaning function to the text data\n",
        "df['cleaned_text'] = df['text'].apply(clean_text)"
      ],
      "metadata": {
        "id": "grU-zoVMyGrz"
      },
      "execution_count": 6,
      "outputs": []
    },
    {
      "cell_type": "markdown",
      "source": [
        "# **Split dataset**"
      ],
      "metadata": {
        "id": "3bU8ET8yYZDQ"
      }
    },
    {
      "cell_type": "code",
      "source": [
        "\n",
        "X = df['cleaned_text']\n",
        "y = df['label']\n",
        "\n",
        "# Split into train and test sets (80% training, 20% testing)\n",
        "X_train, X_test, y_train, y_test = train_test_split(X, y, test_size=0.2, random_state=42)\n"
      ],
      "metadata": {
        "id": "xb62fw3HyGuS"
      },
      "execution_count": 21,
      "outputs": []
    },
    {
      "cell_type": "markdown",
      "source": [
        "# **Feature extraction**"
      ],
      "metadata": {
        "id": "UwzVUfWDYfoW"
      }
    },
    {
      "cell_type": "code",
      "source": [
        "# Feature extraction using TF-IDF\n",
        "tfidf = TfidfVectorizer(max_features=5000)\n",
        "X_train_tfidf = tfidf.fit_transform(X_train)\n",
        "X_test_tfidf = tfidf.transform(X_test)\n"
      ],
      "metadata": {
        "id": "4Hw_V5A3yGyL"
      },
      "execution_count": 22,
      "outputs": []
    },
    {
      "cell_type": "markdown",
      "source": [
        "# **Model Tuning - Logistic Regression with GridSearchCV**"
      ],
      "metadata": {
        "id": "0iQllbn2YhaF"
      }
    },
    {
      "cell_type": "code",
      "source": [
        "#  Model Tuning - Logistic Regression with GridSearchCV\n",
        "logreg = LogisticRegression(max_iter=1000)\n",
        "param_grid = {'C': [0.1, 1, 10, 100]}\n",
        "grid = GridSearchCV(logreg, param_grid, cv=5)\n",
        "grid.fit(X_train_tfidf, y_train)\n",
        "\n",
        "# Get the best model\n",
        "best_logreg = grid.best_estimator_"
      ],
      "metadata": {
        "id": "NjmlrPBDyG1z"
      },
      "execution_count": 23,
      "outputs": []
    },
    {
      "cell_type": "markdown",
      "source": [
        "# **Evaluate the tuned model**"
      ],
      "metadata": {
        "id": "4WQC8pH6Yo8r"
      }
    },
    {
      "cell_type": "code",
      "source": [
        "\n",
        "y_pred_logreg = best_logreg.predict(X_test_tfidf)"
      ],
      "metadata": {
        "id": "7zB0zoUZygC2"
      },
      "execution_count": 24,
      "outputs": []
    },
    {
      "cell_type": "markdown",
      "source": [
        "# **accuracy**"
      ],
      "metadata": {
        "id": "wFhP1mv5Yr56"
      }
    },
    {
      "cell_type": "code",
      "source": [
        "# Print accuracy\n",
        "print(\"Logistic Regression Accuracy after tuning:\", accuracy_score(y_test, y_pred_logreg))\n"
      ],
      "metadata": {
        "colab": {
          "base_uri": "https://localhost:8080/"
        },
        "id": "1egRzK6mygFi",
        "outputId": "44fcdbee-81cb-4564-fd47-24b9eecf30d4"
      },
      "execution_count": 25,
      "outputs": [
        {
          "output_type": "stream",
          "name": "stdout",
          "text": [
            "Logistic Regression Accuracy after tuning: 0.9006261845925002\n"
          ]
        }
      ]
    },
    {
      "cell_type": "markdown",
      "source": [
        "# **classification report**"
      ],
      "metadata": {
        "id": "xi5hqingYubC"
      }
    },
    {
      "cell_type": "code",
      "source": [
        "# Print classification report\n",
        "print(classification_report(y_test, y_pred_logreg, target_names=['sadness', 'joy', 'love', 'anger', 'fear', 'surprise']))\n"
      ],
      "metadata": {
        "colab": {
          "base_uri": "https://localhost:8080/"
        },
        "id": "sDkkNiCDygI7",
        "outputId": "989c67b3-35d6-43d3-df23-e041846841b1"
      },
      "execution_count": 26,
      "outputs": [
        {
          "output_type": "stream",
          "name": "stdout",
          "text": [
            "              precision    recall  f1-score   support\n",
            "\n",
            "     sadness       0.94      0.95      0.94     24201\n",
            "         joy       0.92      0.93      0.92     28164\n",
            "        love       0.81      0.77      0.79      6929\n",
            "       anger       0.91      0.91      0.91     11441\n",
            "        fear       0.85      0.85      0.85      9594\n",
            "    surprise       0.78      0.71      0.74      3033\n",
            "\n",
            "    accuracy                           0.90     83362\n",
            "   macro avg       0.87      0.85      0.86     83362\n",
            "weighted avg       0.90      0.90      0.90     83362\n",
            "\n"
          ]
        }
      ]
    },
    {
      "cell_type": "markdown",
      "source": [
        "# **Deep Learning Model - LSTM**"
      ],
      "metadata": {
        "id": "rN5bj-NXYyHQ"
      }
    },
    {
      "cell_type": "code",
      "source": [
        "\n",
        "\n",
        "# Tokenization for LSTM model\n",
        "tokenizer = Tokenizer(num_words=5000)\n",
        "tokenizer.fit_on_texts(X_train)\n",
        "\n",
        "X_train_seq = tokenizer.texts_to_sequences(X_train)\n",
        "X_test_seq = tokenizer.texts_to_sequences(X_test)"
      ],
      "metadata": {
        "id": "DamLQvBYywHC"
      },
      "execution_count": 27,
      "outputs": []
    },
    {
      "cell_type": "code",
      "source": [
        "# Padding the sequences\n",
        "max_seq_len = 100\n",
        "X_train_pad = pad_sequences(X_train_seq, maxlen=max_seq_len)\n",
        "X_test_pad = pad_sequences(X_test_seq, maxlen=max_seq_len)"
      ],
      "metadata": {
        "id": "BKwgzgdgywKW"
      },
      "execution_count": 28,
      "outputs": []
    },
    {
      "cell_type": "code",
      "source": [
        "# LSTM Model Building\n",
        "embedding_dim = 128\n",
        "lstm_model = Sequential()\n",
        "lstm_model.add(Embedding(input_dim=5000, output_dim=embedding_dim, input_length=max_seq_len))\n",
        "lstm_model.add(SpatialDropout1D(0.2))\n",
        "lstm_model.add(LSTM(100, dropout=0.2, recurrent_dropout=0.2))\n",
        "lstm_model.add(Dense(6, activation='softmax'))  # 6 classes for emotions\n",
        "\n",
        "\n",
        "lstm_model.compile(loss='sparse_categorical_crossentropy', optimizer='adam', metrics=['accuracy'])\n"
      ],
      "metadata": {
        "colab": {
          "base_uri": "https://localhost:8080/"
        },
        "id": "fa9OAmoKywNu",
        "outputId": "ee3ba4dd-f8ae-446c-ce8d-cc2a44940676"
      },
      "execution_count": 29,
      "outputs": [
        {
          "output_type": "stream",
          "name": "stderr",
          "text": [
            "/usr/local/lib/python3.10/dist-packages/keras/src/layers/core/embedding.py:90: UserWarning: Argument `input_length` is deprecated. Just remove it.\n",
            "  warnings.warn(\n"
          ]
        }
      ]
    },
    {
      "cell_type": "markdown",
      "source": [
        "# **Train the LSTM model**"
      ],
      "metadata": {
        "id": "4C5K0K-GY1k4"
      }
    },
    {
      "cell_type": "code",
      "source": [
        "# Train the LSTM model\n",
        "batch_size = 64\n",
        "epochs = 5\n",
        "lstm_model.fit(X_train_pad, y_train, epochs=epochs, batch_size=batch_size, validation_data=(X_test_pad, y_test), verbose=2)\n"
      ],
      "metadata": {
        "colab": {
          "base_uri": "https://localhost:8080/"
        },
        "id": "reP-Ys391LLq",
        "outputId": "86fd5ee0-2791-4fea-f82a-212fc2bd0306"
      },
      "execution_count": 31,
      "outputs": [
        {
          "output_type": "stream",
          "name": "stdout",
          "text": [
            "Epoch 1/5\n",
            "5211/5211 - 1216s - 233ms/step - accuracy: 0.9408 - loss: 0.0899 - val_accuracy: 0.9392 - val_loss: 0.0919\n",
            "Epoch 2/5\n",
            "5211/5211 - 1216s - 233ms/step - accuracy: 0.9422 - loss: 0.0876 - val_accuracy: 0.9392 - val_loss: 0.0937\n",
            "Epoch 3/5\n",
            "5211/5211 - 1231s - 236ms/step - accuracy: 0.9424 - loss: 0.0857 - val_accuracy: 0.9395 - val_loss: 0.0922\n",
            "Epoch 4/5\n",
            "5211/5211 - 1152s - 221ms/step - accuracy: 0.9435 - loss: 0.0843 - val_accuracy: 0.9367 - val_loss: 0.0932\n",
            "Epoch 5/5\n",
            "5211/5211 - 1152s - 221ms/step - accuracy: 0.9434 - loss: 0.0834 - val_accuracy: 0.9340 - val_loss: 0.0940\n"
          ]
        },
        {
          "output_type": "execute_result",
          "data": {
            "text/plain": [
              "<keras.src.callbacks.history.History at 0x7b6be8e80a60>"
            ]
          },
          "metadata": {},
          "execution_count": 31
        }
      ]
    },
    {
      "cell_type": "markdown",
      "source": [
        "# ** Evaluate the LSTM model**"
      ],
      "metadata": {
        "id": "cPAg8GOqY5J0"
      }
    },
    {
      "cell_type": "code",
      "source": [
        "\n",
        "y_pred_lstm = np.argmax(lstm_model.predict(X_test_pad), axis=-1)\n"
      ],
      "metadata": {
        "colab": {
          "base_uri": "https://localhost:8080/"
        },
        "id": "DzdczcNh1LO2",
        "outputId": "573b97c6-e2f1-4b44-b961-c0eaf1ebda9a"
      },
      "execution_count": 32,
      "outputs": [
        {
          "output_type": "stream",
          "name": "stdout",
          "text": [
            "\u001b[1m2606/2606\u001b[0m \u001b[32m━━━━━━━━━━━━━━━━━━━━\u001b[0m\u001b[37m\u001b[0m \u001b[1m112s\u001b[0m 43ms/step\n"
          ]
        }
      ]
    },
    {
      "cell_type": "markdown",
      "source": [
        "# **accuracy**"
      ],
      "metadata": {
        "id": "CgRLBd-8Y7XI"
      }
    },
    {
      "cell_type": "code",
      "source": [
        "# Print accuracy\n",
        "print(\"LSTM Model Accuracy:\", accuracy_score(y_test, y_pred_lstm))\n"
      ],
      "metadata": {
        "colab": {
          "base_uri": "https://localhost:8080/"
        },
        "id": "BxbxoS2n1LSQ",
        "outputId": "437f7380-08ae-4c4d-919a-c13fa7b5120a"
      },
      "execution_count": 33,
      "outputs": [
        {
          "output_type": "stream",
          "name": "stdout",
          "text": [
            "LSTM Model Accuracy: 0.9339627168254121\n"
          ]
        }
      ]
    },
    {
      "cell_type": "markdown",
      "source": [
        "# **classification report for LSTM**"
      ],
      "metadata": {
        "id": "pUGWBglGY-Ey"
      }
    },
    {
      "cell_type": "code",
      "source": [
        "\n",
        "print(classification_report(y_test, y_pred_lstm, target_names=['sadness', 'joy', 'love', 'anger', 'fear', 'surprise']))\n"
      ],
      "metadata": {
        "colab": {
          "base_uri": "https://localhost:8080/"
        },
        "id": "364bRjbv1T8L",
        "outputId": "392ac473-36fd-4ad4-ad4e-7fe98e087227"
      },
      "execution_count": 34,
      "outputs": [
        {
          "output_type": "stream",
          "name": "stdout",
          "text": [
            "              precision    recall  f1-score   support\n",
            "\n",
            "     sadness       0.96      0.98      0.97     24201\n",
            "         joy       0.94      0.96      0.95     28164\n",
            "        love       0.87      0.79      0.83      6929\n",
            "       anger       0.94      0.95      0.94     11441\n",
            "        fear       0.89      0.90      0.89      9594\n",
            "    surprise       0.92      0.64      0.75      3033\n",
            "\n",
            "    accuracy                           0.93     83362\n",
            "   macro avg       0.92      0.87      0.89     83362\n",
            "weighted avg       0.93      0.93      0.93     83362\n",
            "\n"
          ]
        }
      ]
    },
    {
      "cell_type": "markdown",
      "source": [
        "# **Confusion matrix**"
      ],
      "metadata": {
        "id": "DRLC-FZYZAus"
      }
    },
    {
      "cell_type": "code",
      "source": [
        "\n",
        "print(\"Confusion Matrix - LSTM:\")\n",
        "print(confusion_matrix(y_test, y_pred_lstm))\n"
      ],
      "metadata": {
        "colab": {
          "base_uri": "https://localhost:8080/"
        },
        "id": "YxiY_gxR1T-o",
        "outputId": "284479d7-6ae4-4096-9256-88350a2349d2"
      },
      "execution_count": 35,
      "outputs": [
        {
          "output_type": "stream",
          "name": "stdout",
          "text": [
            "Confusion Matrix - LSTM:\n",
            "[[23828    23     1   168   166    15]\n",
            " [   23 27174   836    45    17    69]\n",
            " [    1  1472  5455     1     0     0]\n",
            " [  490    50     0 10830    71     0]\n",
            " [  373    27     0   478  8642    74]\n",
            " [   16   259     0     0   830  1928]]\n"
          ]
        }
      ]
    },
    {
      "cell_type": "markdown",
      "source": [
        "# **Predict the best model**"
      ],
      "metadata": {
        "id": "eLcTQSagZKv4"
      }
    },
    {
      "cell_type": "code",
      "source": [
        "# Step 9: Predict on new data using the best model (LSTM or Logistic Regression)\n",
        "def predict_emotion(text, model='logreg'):\n",
        "    cleaned_text = clean_text(text)\n",
        "    if model == 'logreg':\n",
        "        text_tfidf = tfidf.transform([cleaned_text])\n",
        "        prediction = best_logreg.predict(text_tfidf)[0]\n",
        "    else:\n",
        "        text_seq = tokenizer.texts_to_sequences([cleaned_text])\n",
        "        text_pad = pad_sequences(text_seq, maxlen=max_seq_len)\n",
        "        prediction = np.argmax(lstm_model.predict(text_pad), axis=-1)[0]\n",
        "\n",
        "    emotions = {0: 'sadness', 1: 'joy', 2: 'love', 3: 'anger', 4: 'fear', 5: 'surprise'}\n",
        "    return emotions[prediction]\n"
      ],
      "metadata": {
        "id": "-ja-BWVx1UBI"
      },
      "execution_count": 36,
      "outputs": []
    },
    {
      "cell_type": "markdown",
      "source": [
        "# **Example prediction with Models**"
      ],
      "metadata": {
        "id": "dQU4lIHnZS9m"
      }
    },
    {
      "cell_type": "code",
      "source": [
        "# Example prediction with Logistic Regression\n",
        "new_tweet = \"I am so excited and happy about this!\"\n",
        "print(\"Predicted emotion (Logistic Regression):\", predict_emotion(new_tweet, model='logreg'))\n"
      ],
      "metadata": {
        "colab": {
          "base_uri": "https://localhost:8080/"
        },
        "id": "iS1BJ2KI1UEr",
        "outputId": "cd90e358-708f-4ba6-e970-f8da9148c35a"
      },
      "execution_count": 37,
      "outputs": [
        {
          "output_type": "stream",
          "name": "stdout",
          "text": [
            "Predicted emotion (Logistic Regression): joy\n"
          ]
        }
      ]
    },
    {
      "cell_type": "code",
      "source": [
        "# Example prediction with LSTM\n",
        "print(\"Predicted emotion (LSTM):\", predict_emotion(new_tweet, model='lstm'))"
      ],
      "metadata": {
        "colab": {
          "base_uri": "https://localhost:8080/"
        },
        "id": "M7SWrHHP1UM5",
        "outputId": "3fa8cfb2-e2a4-41a9-e10b-5ea20a014e95"
      },
      "execution_count": 38,
      "outputs": [
        {
          "output_type": "stream",
          "name": "stdout",
          "text": [
            "\u001b[1m1/1\u001b[0m \u001b[32m━━━━━━━━━━━━━━━━━━━━\u001b[0m\u001b[37m\u001b[0m \u001b[1m0s\u001b[0m 44ms/step\n",
            "Predicted emotion (LSTM): joy\n"
          ]
        }
      ]
    }
  ]
}